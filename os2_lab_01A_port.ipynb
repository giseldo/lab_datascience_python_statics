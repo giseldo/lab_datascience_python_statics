{
  "nbformat": 4,
  "nbformat_minor": 0,
  "metadata": {
    "colab": {
      "name": "os2_lab_01A_port.ipynb",
      "version": "0.3.2",
      "provenance": [],
      "collapsed_sections": [
        "3XSqpCM7OCiz"
      ],
      "toc_visible": true,
      "include_colab_link": true
    },
    "kernelspec": {
      "name": "python3",
      "display_name": "Python 3"
    }
  },
  "cells": [
    {
      "cell_type": "markdown",
      "metadata": {
        "id": "view-in-github",
        "colab_type": "text"
      },
      "source": [
        "<a href=\"https://colab.research.google.com/github/giseldo/lab_python/blob/master/os2_lab_01A_port.ipynb\" target=\"_parent\"><img src=\"https://colab.research.google.com/assets/colab-badge.svg\" alt=\"Open In Colab\"/></a>"
      ]
    },
    {
      "metadata": {
        "id": "ZLfBgx0WN0YK",
        "colab_type": "text"
      },
      "cell_type": "markdown",
      "source": [
        "### Autores: Giseldo Neo e José Lucas"
      ]
    },
    {
      "metadata": {
        "id": "3XSqpCM7OCiz",
        "colab_type": "text"
      },
      "cell_type": "markdown",
      "source": [
        "# Laboratório 1: Introdução à Análise de Dados"
      ]
    },
    {
      "metadata": {
        "id": "2FcT4V5N2ua-",
        "colab_type": "text"
      },
      "cell_type": "markdown",
      "source": [
        "Algumas pessoas definem a Estatística como a ciência que tem por objetivo transformar informação em conhecimento. O primeiro passo no processo é sumarizar e descrever a informação bruta - os dados. Neste laboratório, você obterá novos conhecimento sobre saúde pública gerando sumários gráficos e numéricos de um conjunto de dados coletados pelo Centro para o Controle e Prevenção de Doenças (“Centers for Disease Control and Prevention”, CDC). Como esse conjunto de dados é grande, ao longo do caminho você também aprenderá as habilidades indispensáveis de processamento de dados e organização de subconjuntos."
      ]
    },
    {
      "metadata": {
        "id": "7dYXSjHZOE81",
        "colab_type": "text"
      },
      "cell_type": "markdown",
      "source": [
        "# Preparações:"
      ]
    },
    {
      "metadata": {
        "id": "VB81fMGy2-X2",
        "colab_type": "text"
      },
      "cell_type": "markdown",
      "source": [
        "O Sistema de Monitoramento de Fatores de Risco Comportamental (“Behavioral Risk Factor Surveillance System”, BRFSS) é uma pesquisa anual realizado por telefone com 350.000 pessoas nos Estados Unidos. Como seu nome implica, o BRFSS foi desenvolvido para identificar fatores de risco na população adulta e relatar tendências emergentes na saúde. Por exemplo, os respondentes são indagados sobre sua dieta e atividades\n",
        "físicas semanais, seu diagnóstico de HIV/AIDS, uso provável de tabaco, e mesmo seu nível de cobertura por planos de saúde. O website do BRFSS (http://www.cdc.gov/brfss) contém uma descrição completa desta pesquisa, incluindo as questões de pesquisa que motivaram o estudo e muitos resultados interessantes derivados dos dados.\n",
        "Nós nos focaremos numa amostra aleatória de 20.000 pessoas do BRFSS conduzido em 2000. Ainda que existam mais de 200 variáveis neste conjunto de dados, nós trabalharemos com um subconjunto menor. Começamos importando os dados das 20.000 observações para dentro do Python. Entre com o seguinte comando."
      ]
    },
    {
      "metadata": {
        "id": "xWYUH1pwM32o",
        "colab_type": "code",
        "colab": {}
      },
      "cell_type": "code",
      "source": [
        "import pandas as pd\n",
        "dados_cdc = pd.read_csv(\"https://raw.githubusercontent.com/giseldo/lab_python/master/arquivo.cvs\") "
      ],
      "execution_count": 0,
      "outputs": []
    },
    {
      "metadata": {
        "id": "X7CiTSDFgRTC",
        "colab_type": "text"
      },
      "cell_type": "markdown",
      "source": [
        "O conjunto de dados **dados_cdc** que aparece em seu espaço de trabalho é uma matriz de dados, com cada linha representando um caso e cada coluna representando uma variável. O Python chama este formato de dados de data frame, que será um termo utilizado ao longo dos laboratórios. Para visualizar o nome das variáveis, digite o comando:\n",
        "\n",
        "\n",
        "\n",
        "\n",
        "\n",
        "\n",
        "\n"
      ]
    },
    {
      "metadata": {
        "id": "YvZtayeLjcH1",
        "colab_type": "code",
        "outputId": "7e0eba7b-d7b9-4b1a-f08e-1b14c9262211",
        "colab": {
          "base_uri": "https://localhost:8080/",
          "height": 72
        }
      },
      "cell_type": "code",
      "source": [
        "dados_cdc.columns"
      ],
      "execution_count": 0,
      "outputs": [
        {
          "output_type": "execute_result",
          "data": {
            "text/plain": [
              "Index(['genhlth', 'exerany', 'hlthplan', 'smoke100', 'height', 'weight',\n",
              "       'wtdesire', 'age', 'gender'],\n",
              "      dtype='object')"
            ]
          },
          "metadata": {
            "tags": []
          },
          "execution_count": 15
        }
      ]
    },
    {
      "metadata": {
        "id": "rU-msfJGkBBh",
        "colab_type": "text"
      },
      "cell_type": "markdown",
      "source": [
        "Este comando retorna os nomes **genhlth**, **exerany**, **hlthplan**, **smoke100**, **height**, **weight**, **wtdesire**, **age** e **gender**. Cada uma dessas variáveis corresponde a uma questão que foi feita na pesquisa. Por exemplo, para **genhlth**, os respondentes foram indagados sobre sua saúde geral, respondendo excelente, muito bom, bom, razoável ou ruim. A variável **exerany** indica se o respondente se exercitou no último mês (1) ou não (0). Da mesma forma, **hlthplan** indica se o respondente tem alguma forma de cobertura (1) ou não (0). A variável **smoke100** indica se o respondente fumou pelo menos 100 cigarros ao longo da vida. As outras variáveis registram a altura (**height**) em polegadas, o peso (**weight**) em libras, bem como o peso desejado (**wtdesire**), idade (**age**) em anos, e gênero (**gender**)"
      ]
    },
    {
      "metadata": {
        "id": "K7rLryNJtRDf",
        "colab_type": "text"
      },
      "cell_type": "markdown",
      "source": [
        " Nós podemos dar uma olhada nas primeiras entradas (linhas) de nossos dados com o comando"
      ]
    },
    {
      "metadata": {
        "id": "3JJGMFc0tRTb",
        "colab_type": "code",
        "colab": {
          "base_uri": "https://localhost:8080/",
          "height": 206
        },
        "outputId": "2e96736b-dd8b-447f-e1f1-0c82246d9e44"
      },
      "cell_type": "code",
      "source": [
        "dados_cdc.head()"
      ],
      "execution_count": 25,
      "outputs": [
        {
          "output_type": "execute_result",
          "data": {
            "text/html": [
              "<div>\n",
              "<style scoped>\n",
              "    .dataframe tbody tr th:only-of-type {\n",
              "        vertical-align: middle;\n",
              "    }\n",
              "\n",
              "    .dataframe tbody tr th {\n",
              "        vertical-align: top;\n",
              "    }\n",
              "\n",
              "    .dataframe thead th {\n",
              "        text-align: right;\n",
              "    }\n",
              "</style>\n",
              "<table border=\"1\" class=\"dataframe\">\n",
              "  <thead>\n",
              "    <tr style=\"text-align: right;\">\n",
              "      <th></th>\n",
              "      <th>genhlth</th>\n",
              "      <th>exerany</th>\n",
              "      <th>hlthplan</th>\n",
              "      <th>smoke100</th>\n",
              "      <th>height</th>\n",
              "      <th>weight</th>\n",
              "      <th>wtdesire</th>\n",
              "      <th>age</th>\n",
              "      <th>gender</th>\n",
              "    </tr>\n",
              "  </thead>\n",
              "  <tbody>\n",
              "    <tr>\n",
              "      <th>0</th>\n",
              "      <td>good</td>\n",
              "      <td>0</td>\n",
              "      <td>1</td>\n",
              "      <td>0</td>\n",
              "      <td>70</td>\n",
              "      <td>175</td>\n",
              "      <td>175</td>\n",
              "      <td>77</td>\n",
              "      <td>m</td>\n",
              "    </tr>\n",
              "    <tr>\n",
              "      <th>1</th>\n",
              "      <td>good</td>\n",
              "      <td>0</td>\n",
              "      <td>1</td>\n",
              "      <td>1</td>\n",
              "      <td>64</td>\n",
              "      <td>125</td>\n",
              "      <td>115</td>\n",
              "      <td>33</td>\n",
              "      <td>f</td>\n",
              "    </tr>\n",
              "    <tr>\n",
              "      <th>2</th>\n",
              "      <td>good</td>\n",
              "      <td>1</td>\n",
              "      <td>1</td>\n",
              "      <td>1</td>\n",
              "      <td>60</td>\n",
              "      <td>105</td>\n",
              "      <td>105</td>\n",
              "      <td>49</td>\n",
              "      <td>f</td>\n",
              "    </tr>\n",
              "    <tr>\n",
              "      <th>3</th>\n",
              "      <td>good</td>\n",
              "      <td>1</td>\n",
              "      <td>1</td>\n",
              "      <td>0</td>\n",
              "      <td>66</td>\n",
              "      <td>132</td>\n",
              "      <td>124</td>\n",
              "      <td>42</td>\n",
              "      <td>f</td>\n",
              "    </tr>\n",
              "    <tr>\n",
              "      <th>4</th>\n",
              "      <td>very good</td>\n",
              "      <td>0</td>\n",
              "      <td>1</td>\n",
              "      <td>0</td>\n",
              "      <td>61</td>\n",
              "      <td>150</td>\n",
              "      <td>130</td>\n",
              "      <td>55</td>\n",
              "      <td>f</td>\n",
              "    </tr>\n",
              "  </tbody>\n",
              "</table>\n",
              "</div>"
            ],
            "text/plain": [
              "     genhlth  exerany  hlthplan  smoke100  height  weight  wtdesire  age  \\\n",
              "0       good        0         1         0      70     175       175   77   \n",
              "1       good        0         1         1      64     125       115   33   \n",
              "2       good        1         1         1      60     105       105   49   \n",
              "3       good        1         1         0      66     132       124   42   \n",
              "4  very good        0         1         0      61     150       130   55   \n",
              "\n",
              "  gender  \n",
              "0      m  \n",
              "1      f  \n",
              "2      f  \n",
              "3      f  \n",
              "4      f  "
            ]
          },
          "metadata": {
            "tags": []
          },
          "execution_count": 25
        }
      ]
    },
    {
      "metadata": {
        "id": "nd1voghStLiF",
        "colab_type": "text"
      },
      "cell_type": "markdown",
      "source": [
        "e, similarmente, podemos verificar as últimas digitando"
      ]
    },
    {
      "metadata": {
        "id": "ju4VATIemGsc",
        "colab_type": "code",
        "outputId": "ef0b38d2-1bce-4647-e111-fa3beebdae1f",
        "colab": {
          "base_uri": "https://localhost:8080/",
          "height": 206
        }
      },
      "cell_type": "code",
      "source": [
        "dados_cdc.tail()"
      ],
      "execution_count": 0,
      "outputs": [
        {
          "output_type": "execute_result",
          "data": {
            "text/html": [
              "<div>\n",
              "<style scoped>\n",
              "    .dataframe tbody tr th:only-of-type {\n",
              "        vertical-align: middle;\n",
              "    }\n",
              "\n",
              "    .dataframe tbody tr th {\n",
              "        vertical-align: top;\n",
              "    }\n",
              "\n",
              "    .dataframe thead th {\n",
              "        text-align: right;\n",
              "    }\n",
              "</style>\n",
              "<table border=\"1\" class=\"dataframe\">\n",
              "  <thead>\n",
              "    <tr style=\"text-align: right;\">\n",
              "      <th></th>\n",
              "      <th>genhlth</th>\n",
              "      <th>exerany</th>\n",
              "      <th>hlthplan</th>\n",
              "      <th>smoke100</th>\n",
              "      <th>height</th>\n",
              "      <th>weight</th>\n",
              "      <th>wtdesire</th>\n",
              "      <th>age</th>\n",
              "      <th>gender</th>\n",
              "    </tr>\n",
              "  </thead>\n",
              "  <tbody>\n",
              "    <tr>\n",
              "      <th>19995</th>\n",
              "      <td>good</td>\n",
              "      <td>1</td>\n",
              "      <td>1</td>\n",
              "      <td>0</td>\n",
              "      <td>66</td>\n",
              "      <td>215</td>\n",
              "      <td>140</td>\n",
              "      <td>23</td>\n",
              "      <td>f</td>\n",
              "    </tr>\n",
              "    <tr>\n",
              "      <th>19996</th>\n",
              "      <td>excellent</td>\n",
              "      <td>0</td>\n",
              "      <td>1</td>\n",
              "      <td>0</td>\n",
              "      <td>73</td>\n",
              "      <td>200</td>\n",
              "      <td>185</td>\n",
              "      <td>35</td>\n",
              "      <td>m</td>\n",
              "    </tr>\n",
              "    <tr>\n",
              "      <th>19997</th>\n",
              "      <td>poor</td>\n",
              "      <td>0</td>\n",
              "      <td>1</td>\n",
              "      <td>0</td>\n",
              "      <td>65</td>\n",
              "      <td>216</td>\n",
              "      <td>150</td>\n",
              "      <td>57</td>\n",
              "      <td>f</td>\n",
              "    </tr>\n",
              "    <tr>\n",
              "      <th>19998</th>\n",
              "      <td>good</td>\n",
              "      <td>1</td>\n",
              "      <td>1</td>\n",
              "      <td>0</td>\n",
              "      <td>67</td>\n",
              "      <td>165</td>\n",
              "      <td>165</td>\n",
              "      <td>81</td>\n",
              "      <td>f</td>\n",
              "    </tr>\n",
              "    <tr>\n",
              "      <th>19999</th>\n",
              "      <td>good</td>\n",
              "      <td>1</td>\n",
              "      <td>1</td>\n",
              "      <td>1</td>\n",
              "      <td>69</td>\n",
              "      <td>170</td>\n",
              "      <td>165</td>\n",
              "      <td>83</td>\n",
              "      <td>m</td>\n",
              "    </tr>\n",
              "  </tbody>\n",
              "</table>\n",
              "</div>"
            ],
            "text/plain": [
              "         genhlth  exerany  hlthplan  smoke100  height  weight  wtdesire  age  \\\n",
              "19995       good        1         1         0      66     215       140   23   \n",
              "19996  excellent        0         1         0      73     200       185   35   \n",
              "19997       poor        0         1         0      65     216       150   57   \n",
              "19998       good        1         1         0      67     165       165   81   \n",
              "19999       good        1         1         1      69     170       165   83   \n",
              "\n",
              "      gender  \n",
              "19995      f  \n",
              "19996      m  \n",
              "19997      f  \n",
              "19998      f  \n",
              "19999      m  "
            ]
          },
          "metadata": {
            "tags": []
          },
          "execution_count": 19
        }
      ]
    },
    {
      "metadata": {
        "id": "klxxw4uFuQo2",
        "colab_type": "text"
      },
      "cell_type": "markdown",
      "source": [
        "Você também pode verificar toda a base de dados de uma vez só digitando **dados_cdc**, mas isso pode não ser muito sábio neste contexto. Sabemos que **dados_cdc** tem muitos casos, portanto verificar o conjunto de dados inteiro significa inundar sua tela. É melhor dar pequenas espiadas nos dados utilizando head, tail, ou as técnicas de construção de subconjunto que você aprenderá nas próximas seções."
      ]
    },
    {
      "metadata": {
        "id": "-uPLlcjduVKc",
        "colab_type": "text"
      },
      "cell_type": "markdown",
      "source": [
        "### Dicas:\n",
        "####Referência da API do Pandas para referência\n",
        "https://pandas.pydata.org/pandas-docs/stable/reference/\n",
        "\n",
        "#### Resumo dos comandos do Pandas \n",
        "https://s3.amazonaws.com/assets.datacamp.com/blog_assets/PandasPythonForDataScience.pdf\n",
        "\n",
        "#### Artigo com infomações sobre o Pandas\n",
        "https://medium.com/data-hackers/uma-introdu%C3%A7%C3%A3o-simples-ao-pandas-1e15eea37fa1"
      ]
    },
    {
      "metadata": {
        "id": "DIUl5FIBlRpz",
        "colab_type": "text"
      },
      "cell_type": "markdown",
      "source": [
        "### Exercício 1 \n",
        "Há quantos casos neste conjunto de dados? Quantas variáveis (ou atributos, ou colunas)? Para cada variável, identifique seu tipo de dado (p.e., categorial, discreta).\n",
        "\n",
        "Dica: Procure um comando na Referência da API do Pandas que exiba a quantidade de casos e de variáveis ao mesmo tempo\n",
        "### (GISELDO: Colocar quais os tipos e uma referência para os tipos)"
      ]
    },
    {
      "metadata": {
        "id": "Kj9ZxIY2mVsZ",
        "colab_type": "text"
      },
      "cell_type": "markdown",
      "source": [
        "### Resposta 1 (GISELDO: Não sei se devemos publicar as respostas)\n",
        "São 20.000 casos e 9 variáveis. Pode ser visto com o comando **dados_cdc.shape**.\n",
        "\n",
        "**genhlth**, **exerany**,\t**hlthplan**,\t**smoke100** e \t**gender** são categoricas. **height**,\t**weight**,\t**wtdesire** e \t**age** são contínuas.\n"
      ]
    },
    {
      "metadata": {
        "id": "HFUbyOQEmbhq",
        "colab_type": "code",
        "outputId": "0980c33b-0b75-4916-9d4e-09b8313f3ae6",
        "colab": {
          "base_uri": "https://localhost:8080/",
          "height": 35
        }
      },
      "cell_type": "code",
      "source": [
        "dados_cdc.shape"
      ],
      "execution_count": 0,
      "outputs": [
        {
          "output_type": "execute_result",
          "data": {
            "text/plain": [
              "(20000, 9)"
            ]
          },
          "metadata": {
            "tags": []
          },
          "execution_count": 22
        }
      ]
    },
    {
      "metadata": {
        "id": "L3LMuo2Ky3e7",
        "colab_type": "text"
      },
      "cell_type": "markdown",
      "source": [
        "# Sumários e Tabelas"
      ]
    },
    {
      "metadata": {
        "id": "W3JuBmKp2ZN4",
        "colab_type": "text"
      },
      "cell_type": "markdown",
      "source": [
        "# New Section"
      ]
    },
    {
      "metadata": {
        "id": "Hfln45jq2a89",
        "colab_type": "text"
      },
      "cell_type": "markdown",
      "source": [
        "# New Section"
      ]
    },
    {
      "metadata": {
        "id": "OZbGp8bQziCD",
        "colab_type": "text"
      },
      "cell_type": "markdown",
      "source": [
        ""
      ]
    },
    {
      "metadata": {
        "id": "-th5i1uMywIn",
        "colab_type": "code",
        "colab": {}
      },
      "cell_type": "code",
      "source": [
        ""
      ],
      "execution_count": 0,
      "outputs": []
    },
    {
      "metadata": {
        "id": "dPdmAH1WNlur",
        "colab_type": "text"
      },
      "cell_type": "markdown",
      "source": [
        "\n",
        "\n",
        "\n"
      ]
    },
    {
      "metadata": {
        "id": "c_PgWVDLmbuF",
        "colab_type": "code",
        "colab": {}
      },
      "cell_type": "code",
      "source": [
        ""
      ],
      "execution_count": 0,
      "outputs": []
    },
    {
      "metadata": {
        "id": "D0v9ZNYZx__s",
        "colab_type": "code",
        "colab": {}
      },
      "cell_type": "code",
      "source": [
        ""
      ],
      "execution_count": 0,
      "outputs": []
    },
    {
      "metadata": {
        "id": "Ujl8oLNCkMsY",
        "colab_type": "code",
        "colab": {}
      },
      "cell_type": "code",
      "source": [
        ""
      ],
      "execution_count": 0,
      "outputs": []
    },
    {
      "metadata": {
        "id": "Mw57o3cvgQWt",
        "colab_type": "code",
        "colab": {}
      },
      "cell_type": "code",
      "source": [
        ""
      ],
      "execution_count": 0,
      "outputs": []
    }
  ]
}